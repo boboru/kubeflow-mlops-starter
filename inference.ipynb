{
 "cells": [
  {
   "cell_type": "markdown",
   "id": "6b0bddb6-ad23-4a52-906a-cc8e8dc3cde7",
   "metadata": {},
   "source": [
    "# In-cluster Inference"
   ]
  },
  {
   "cell_type": "markdown",
   "id": "7df97771-6646-4bd8-976f-1e64c2ba1035",
   "metadata": {},
   "source": [
    "## v1\n",
    "with `v1/{model}:predict`"
   ]
  },
  {
   "cell_type": "code",
   "execution_count": 67,
   "id": "f7a49e35-71bc-45bd-aada-24ae322bd921",
   "metadata": {},
   "outputs": [
    {
     "name": "stdout",
     "output_type": "stream",
     "text": [
      "<Response [200]>\n",
      "{'predictions': [[0.05610664561390877]]}\n"
     ]
    }
   ],
   "source": [
    "import requests\n",
    "import json\n",
    "\n",
    "v1_request = [\n",
    "    {\n",
    "        \"userid\": [\"884208\"],\n",
    "        \"cms_segid\": [\"33\"],\n",
    "        \"cms_group_id\": [\"4\"],\n",
    "        \"final_gender_code\": [\"2\"],\n",
    "        \"age_level\": [\"4\"],\n",
    "        \"pvalue_level\": [\"3\"],\n",
    "        \"shopping_level\": [\"3\"],\n",
    "        \"occupation\": [\"2\"],\n",
    "        \"new_user_class_level\": [\"2\"],\n",
    "        \"adgroup_id\": [\"652419\"],\n",
    "        \"cate_id\": [\"1155\"],\n",
    "        \"campaign_id\": [\"384153\"],\n",
    "        \"customer\": [\"37757\"],\n",
    "        \"brand\": [\"255616\"],\n",
    "        \"pid\": [\"1\"],\n",
    "        \"btag\": [\"1\"],\n",
    "        \"price\": [0.1474],\n",
    "    }\n",
    "]\n",
    "\n",
    "base_url = \"http://dcn-v2.kubeflow-user-example-com.svc.cluster.local/v1/models/dcnv2:predict\"\n",
    "\n",
    "response = requests.post(base_url, headers=headers, json={\"inputs\": v1_request})\n",
    "print(response)\n",
    "print(response.json())"
   ]
  },
  {
   "cell_type": "markdown",
   "id": "8661c7fc-39c9-4dec-a8a7-281ad702efc3",
   "metadata": {},
   "source": [
    "## v2\n",
    "with `v2/{model}/infer`"
   ]
  },
  {
   "cell_type": "code",
   "execution_count": 76,
   "id": "7df6b0f6-4ed8-4712-a702-df307a8f3e6b",
   "metadata": {
    "jupyter": {
     "source_hidden": true
    }
   },
   "outputs": [],
   "source": [
    "v2_request = {\n",
    "    \"model_name\": \"dcnv2\",\n",
    "    \"inputs\": [\n",
    "        {\n",
    "            \"name\": \"userid\",\n",
    "            \"shape\": [1],\n",
    "            \"datatype\": \"BYTES\",\n",
    "            \"data\": [\"884208\"],\n",
    "        },\n",
    "        {\n",
    "            \"name\": \"cms_segid\",\n",
    "            \"shape\": [1],\n",
    "            \"datatype\": \"BYTES\",\n",
    "            \"data\": [\"33\"],\n",
    "        },\n",
    "        {\n",
    "            \"name\": \"cms_group_id\",\n",
    "            \"shape\": [1],\n",
    "            \"datatype\": \"BYTES\",\n",
    "            \"data\": [\"4\"],\n",
    "        },\n",
    "        {\n",
    "            \"name\": \"final_gender_code\",\n",
    "            \"shape\": [1],\n",
    "            \"datatype\": \"BYTES\",\n",
    "            \"data\": [\"2\"],\n",
    "        },\n",
    "        {\n",
    "            \"name\": \"age_level\",\n",
    "            \"shape\": [1],\n",
    "            \"datatype\": \"BYTES\",\n",
    "            \"data\": [\"4\"],\n",
    "        },\n",
    "        {\n",
    "            \"name\": \"pvalue_level\",\n",
    "            \"shape\": [1],\n",
    "            \"datatype\": \"BYTES\",\n",
    "            \"data\": [\"3\"],\n",
    "            \"parameters\": None,\n",
    "        },\n",
    "        {\n",
    "            \"name\": \"shopping_level\",\n",
    "            \"shape\": [1],\n",
    "            \"datatype\": \"BYTES\",\n",
    "            \"data\": [\"3\"],\n",
    "        },\n",
    "        {\n",
    "            \"name\": \"occupation\",\n",
    "            \"shape\": [1],\n",
    "            \"datatype\": \"BYTES\",\n",
    "            \"data\": [\"2\"],\n",
    "        },\n",
    "        {\n",
    "            \"name\": \"new_user_class_level\",\n",
    "            \"shape\": [1],\n",
    "            \"datatype\": \"BYTES\",\n",
    "            \"data\": [\"2\"],\n",
    "        },\n",
    "        {\n",
    "            \"name\": \"adgroup_id\",\n",
    "            \"shape\": [1],\n",
    "            \"datatype\": \"BYTES\",\n",
    "            \"data\": [\"652419\"],\n",
    "        },\n",
    "        {\n",
    "            \"name\": \"cate_id\",\n",
    "            \"shape\": [1],\n",
    "            \"datatype\": \"BYTES\",\n",
    "            \"data\": [\"1155\"],\n",
    "        },\n",
    "        {\n",
    "            \"name\": \"campaign_id\",\n",
    "            \"shape\": [1],\n",
    "            \"datatype\": \"BYTES\",\n",
    "            \"data\": [\"384153\"],\n",
    "        },\n",
    "        {\n",
    "            \"name\": \"customer\",\n",
    "            \"shape\": [1],\n",
    "            \"datatype\": \"BYTES\",\n",
    "            \"data\": [\"37757\"],\n",
    "        },\n",
    "        {\n",
    "            \"name\": \"brand\",\n",
    "            \"shape\": [1],\n",
    "            \"datatype\": \"BYTES\",\n",
    "            \"data\": [\"255616\"],\n",
    "        },\n",
    "        {\n",
    "            \"name\": \"pid\",\n",
    "            \"shape\": [1],\n",
    "            \"datatype\": \"BYTES\",\n",
    "            \"data\": [\"1\"],\n",
    "        },\n",
    "        {\n",
    "            \"name\": \"btag\",\n",
    "            \"shape\": [1],\n",
    "            \"datatype\": \"BYTES\",\n",
    "            \"data\": [\"1\"],\n",
    "        },\n",
    "        {\n",
    "            \"name\": \"price\",\n",
    "            \"shape\": [1],\n",
    "            \"datatype\": \"BYTES\",\n",
    "            \"data\": [0.1474],\n",
    "        },\n",
    "    ],\n",
    "    \"parameters\": {\"content_type\": \"pd\"},\n",
    "    \"from_grpc\": False,\n",
    "}"
   ]
  },
  {
   "cell_type": "code",
   "execution_count": 77,
   "id": "8ec11341-467d-4c82-a2ba-264f81836eb6",
   "metadata": {},
   "outputs": [
    {
     "name": "stdout",
     "output_type": "stream",
     "text": [
      "<Response [200]>\n",
      "{'model_name': 'dcnv2', 'model_version': None, 'id': '6f509eae-fc74-42a1-9ecb-3803ebd908ac', 'parameters': None, 'outputs': [{'name': 'output-0', 'shape': [1, 1], 'datatype': 'FP32', 'parameters': None, 'data': [0.05610664561390877]}]}\n"
     ]
    }
   ],
   "source": [
    "base_url = \"http://dcn-v2.kubeflow-user-example-com.svc.cluster.local/v2/models/dcnv2/infer\"\n",
    "\n",
    "response = requests.post(base_url, headers=headers, json=v2_request)\n",
    "print(response)\n",
    "print(response.json())"
   ]
  }
 ],
 "metadata": {
  "kernelspec": {
   "display_name": "Python 3 (ipykernel)",
   "language": "python",
   "name": "python3"
  },
  "language_info": {
   "codemirror_mode": {
    "name": "ipython",
    "version": 3
   },
   "file_extension": ".py",
   "mimetype": "text/x-python",
   "name": "python",
   "nbconvert_exporter": "python",
   "pygments_lexer": "ipython3",
   "version": "3.11.11"
  }
 },
 "nbformat": 4,
 "nbformat_minor": 5
}
